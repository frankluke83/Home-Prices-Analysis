{
 "cells": [
  {
   "cell_type": "code",
   "execution_count": null,
   "metadata": {},
   "outputs": [],
   "source": [
    "#sort dataframe by incident_reported_date in ascending order\n",
    "combined_data_df = combined_data_df.sort_values(by='INCIDENT_REPORTED_DATE')\n",
    "\n",
    "#sort crime data for Cerritos only \n",
    "cerritos_crime_data = combined_data_df[combined_data_df['CITY'] == 'CERRITOS']\n",
    "\n",
    "#finding Cerritos crime count for each day of the year ==> bin the days into months. \n",
    "cerritos_count_byDate = cerritos_crime_data['INCIDENT_REPORTED_DATE'].value_counts()\n",
    "cerritos_count_byDate = cerritos_count_byDate.reset_index()\n",
    "cerritos_count_byDate = cerritos_count_byDate.rename(columns={'index':'Date', 'INCIDENT_REPORTED_DATE':'Count'})\n",
    "cerritos_count_byDate = cerritos_count_byDate.sort_values(by='Date')\n",
    "cerritos_count_byDate = cerritos_count_byDate.reset_index(drop=True)\n",
    "cerritos_count_byDate.head()\n",
    "\n",
    "#convert date to month and year for Cerritos\n",
    "yearMonth = []\n",
    "for index, row in cerritos_count_byDate.iterrows():\n",
    "    crime_mY = str(row['Date'].year) + '-' + str(row['Date'].month)\n",
    "    yearMonth.append(crime_mY)\n",
    "\n",
    "#append crime count dates to Year-Month category to group by month   \n",
    "cerritos_count_byDate['Year-Month'] = yearMonth\n",
    "cerritos_count_byDate.head()\n",
    "\n",
    "#crime count by month for Cerritos to plot \n",
    "cerritos_count_byDate['Year-Month'] = pd.to_datetime(cerritos_count_byDate['Year-Month'], format='%Y-%m')\n",
    "cerritos_sum_month = cerritos_count_byDate.groupby('Year-Month')['Count'].sum()\n",
    "cerritos_sum_month_plot = cerritos_sum_month.reset_index()\n",
    "\n",
    "#plot crime frequency by date in Cerritos\n",
    "plt.figure(figsize=(15,10))\n",
    "plt.plot(cerritos_sum_month_plot['Year-Month'], cerritos_sum_month_plot['Count'])\n",
    "plt.show()"
   ]
  }
 ],
 "metadata": {
  "kernelspec": {
   "display_name": "Python 3",
   "language": "python",
   "name": "python3"
  },
  "language_info": {
   "codemirror_mode": {
    "name": "ipython",
    "version": 3
   },
   "file_extension": ".py",
   "mimetype": "text/x-python",
   "name": "python",
   "nbconvert_exporter": "python",
   "pygments_lexer": "ipython3",
   "version": "3.6.4"
  }
 },
 "nbformat": 4,
 "nbformat_minor": 2
}
